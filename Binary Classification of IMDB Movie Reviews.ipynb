{
  "nbformat": 4,
  "nbformat_minor": 0,
  "metadata": {
    "colab": {
      "provenance": []
    },
    "kernelspec": {
      "name": "python3",
      "display_name": "Python 3"
    },
    "language_info": {
      "name": "python"
    },
    "accelerator": "GPU"
  },
  "cells": [
    {
      "cell_type": "code",
      "execution_count": null,
      "metadata": {
        "id": "3zF71_RpRc1a"
      },
      "outputs": [],
      "source": [
        "import keras\n",
        "import numpy as np\n",
        "import matplotlib.pyplot as plt\n",
        "from keras.datasets import imdb\n",
        "from keras.models import Sequential\n",
        "from keras.layers import Dense, Dropout"
      ]
    },
    {
      "cell_type": "markdown",
      "source": [
        "<h1> Loading the data </h1>"
      ],
      "metadata": {
        "id": "PpMpj9oVRhy3"
      }
    },
    {
      "cell_type": "code",
      "source": [
        "(train_data, train_labels), (test_data, test_labels) = imdb.load_data(num_words=10000)"
      ],
      "metadata": {
        "id": "octOLQT9RnS0"
      },
      "execution_count": null,
      "outputs": []
    },
    {
      "cell_type": "markdown",
      "source": [
        "<h1> Data Preparation </h1>"
      ],
      "metadata": {
        "id": "fSHBYMEUT3kf"
      }
    },
    {
      "cell_type": "markdown",
      "source": [
        "we're going to encode each sequence (review) and transform it into a vector which had dimension of 10000."
      ],
      "metadata": {
        "id": "TRGXwjSKw6_S"
      }
    },
    {
      "cell_type": "code",
      "source": [
        "def vectorize_sequences(sequences, dimension=10000):\n",
        "    results = np.zeros((len(sequences), dimension))\n",
        "    for i, sequence in enumerate(sequences):\n",
        "        results[i, sequence] = 1.\n",
        "    return results"
      ],
      "metadata": {
        "id": "bgH12waSldU4"
      },
      "execution_count": null,
      "outputs": []
    },
    {
      "cell_type": "code",
      "source": [
        "x_train = vectorize_sequences(train_data)\n",
        "x_test = vectorize_sequences(test_data)"
      ],
      "metadata": {
        "id": "7M-a4d1rllpI"
      },
      "execution_count": null,
      "outputs": []
    },
    {
      "cell_type": "code",
      "source": [
        "y_train = np.array(train_labels, dtype = 'float32')\n",
        "y_test = np.array(test_labels, dtype = 'float32')"
      ],
      "metadata": {
        "id": "NR3tLI1bmFnV"
      },
      "execution_count": null,
      "outputs": []
    },
    {
      "cell_type": "markdown",
      "source": [
        "<h1>Building the Neural Network</h1>"
      ],
      "metadata": {
        "id": "CWqxYQLBWV3D"
      }
    },
    {
      "cell_type": "markdown",
      "source": [
        "we are gonna use *Early stopping* so that if the loss started increasing, the model will stop learning and will restore the best weights."
      ],
      "metadata": {
        "id": "xVsfV7k84qX5"
      }
    },
    {
      "cell_type": "code",
      "source": [
        "es = keras.callbacks.EarlyStopping(monitor='val_loss', \n",
        "                                   mode='min', \n",
        "                                   patience=2,\n",
        "                                   restore_best_weights=True)\n"
      ],
      "metadata": {
        "id": "ejbpuAsH0gvW"
      },
      "execution_count": null,
      "outputs": []
    },
    {
      "cell_type": "code",
      "source": [
        "#set up the model\n",
        "model = Sequential()\n",
        "#Adding the first dense layer\n",
        "model.add(Dense(24, activation = 'relu', input_shape = (10000,)))\n",
        "model.add(Dropout(0.5))\n",
        "#Adding the second layer\n",
        "model.add(Dense(16, activation = 'relu'))\n",
        "model.add(Dropout(0.5))\n",
        "#Adding the output layer\n",
        "model.add(Dense(1, activation = 'sigmoid'))\n",
        "\n",
        "#Compile the model\n",
        "model.compile(optimizer = 'adam', loss='binary_crossentropy', metrics = ['Accuracy'])\n",
        "\n",
        "#Fitting the model\n",
        "history = model.fit(x_train, y_train, epochs = 20, batch_size = 32, validation_data= (x_test, y_test), callbacks = [es])"
      ],
      "metadata": {
        "colab": {
          "base_uri": "https://localhost:8080/"
        },
        "id": "-8gZ-y2BVgdy",
        "outputId": "d4154a81-aa83-41f2-ff12-394d5511c3c6"
      },
      "execution_count": null,
      "outputs": [
        {
          "output_type": "stream",
          "name": "stdout",
          "text": [
            "Epoch 1/20\n",
            "782/782 [==============================] - 9s 10ms/step - loss: 0.4574 - Accuracy: 0.7893 - val_loss: 0.3006 - val_Accuracy: 0.8760\n",
            "Epoch 2/20\n",
            "782/782 [==============================] - 6s 8ms/step - loss: 0.2979 - Accuracy: 0.8884 - val_loss: 0.2865 - val_Accuracy: 0.8816\n",
            "Epoch 3/20\n",
            "782/782 [==============================] - 6s 8ms/step - loss: 0.2427 - Accuracy: 0.9086 - val_loss: 0.2959 - val_Accuracy: 0.8788\n",
            "Epoch 4/20\n",
            "782/782 [==============================] - 6s 8ms/step - loss: 0.2111 - Accuracy: 0.9194 - val_loss: 0.3227 - val_Accuracy: 0.8774\n"
          ]
        }
      ]
    },
    {
      "cell_type": "code",
      "source": [
        "loss, acc = model.evaluate(x_test, test_labels,\n",
        "                            batch_size=32)\n",
        "print('Test loss:', loss)\n",
        "print('Test accuracy:', acc)"
      ],
      "metadata": {
        "colab": {
          "base_uri": "https://localhost:8080/"
        },
        "id": "5NLAeqcFZMxj",
        "outputId": "9d6e037e-6175-4cda-d2a8-1ff8ce26de4e"
      },
      "execution_count": null,
      "outputs": [
        {
          "output_type": "stream",
          "name": "stdout",
          "text": [
            "782/782 [==============================] - 4s 4ms/step - loss: 0.2865 - Accuracy: 0.8816\n",
            "Test score: 0.2865370810031891\n",
            "Test accuracy: 0.881600022315979\n"
          ]
        }
      ]
    },
    {
      "cell_type": "code",
      "source": [
        "train_loss = history.history['loss']\n",
        "val_loss = history.history['val_loss']\n",
        "epochs = range(1, (len(history.history['loss']) + 1))\n",
        "plt.plot(epochs, train_loss,'o', color = 'b', label='Training loss')\n",
        "plt.plot(epochs, val_loss,label='Validation loss', color = 'b')\n",
        "plt.title('Training and validation loss')\n",
        "plt.xlabel('Epochs')\n",
        "plt.ylabel('Loss')\n",
        "plt.legend('best')\n",
        "plt.show()"
      ],
      "metadata": {
        "colab": {
          "base_uri": "https://localhost:8080/",
          "height": 295
        },
        "id": "1Z7PDBdBmYkF",
        "outputId": "7fbf585a-103d-48ac-dc28-0e75f0fc7270"
      },
      "execution_count": null,
      "outputs": [
        {
          "output_type": "display_data",
          "data": {
            "text/plain": [
              "<Figure size 432x288 with 1 Axes>"
            ],
            "image/png": "[encoded data removed]"
          },
          "metadata": {
            "needs_background": "light"
          }
        }
      ]
    },
    {
      "cell_type": "code",
      "source": [
        "train_acc = history.history['Accuracy']\n",
        "val_acc = history.history['val_Accuracy']\n",
        "epochs = range(1, (len(history.history['loss']) + 1))\n",
        "plt.plot(epochs, train_acc, 'o',color = 'red', label='Training Accuracy')\n",
        "plt.plot(epochs, val_acc,color= 'red', label='Validation Accuracy')\n",
        "plt.title('Training and validation accuracy')\n",
        "plt.xlabel('Epochs')\n",
        "plt.ylabel('Accuracy')\n",
        "plt.legend('best')\n",
        "plt.show()"
      ],
      "metadata": {
        "colab": {
          "base_uri": "https://localhost:8080/",
          "height": 295
        },
        "id": "9qTDs109nFop",
        "outputId": "d015bed6-1d2e-4697-9c37-2c0e99dc8e3d"
      },
      "execution_count": null,
      "outputs": [
        {
          "output_type": "display_data",
          "data": {
            "text/plain": [
              "<Figure size 432x288 with 1 Axes>"
            ],
            "image/png": "[encoded data removed]"
          },
          "metadata": {
            "needs_background": "light"
          }
        }
      ]
    }
  ]
}